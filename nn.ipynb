{
 "cells": [
  {
   "cell_type": "markdown",
   "metadata": {},
   "source": [
    "This note is the record of learning Deep Learning.\n",
    "\n",
    "The forward and optimizers parts were from [Neural Networks from Scratch in Python](https://nnfs.io).\n",
    "\n",
    "The backpropagation was from [Prof. Hung-yi Lee @ NTU](https://www.youtube.com/watch?v=ibJpTrp5mcE&list=PLJV_el3uVTsPy9oCRY30oBPNLCo89yu49&index=12)."
   ]
  },
  {
   "cell_type": "code",
   "execution_count": 126,
   "metadata": {},
   "outputs": [],
   "source": [
    "import numpy as np"
   ]
  },
  {
   "cell_type": "markdown",
   "metadata": {},
   "source": [
    "# Implement of Neural Network"
   ]
  },
  {
   "cell_type": "code",
   "execution_count": 222,
   "metadata": {},
   "outputs": [],
   "source": [
    "class Dense_layer:\n",
    "    \"\"\"\n",
    "    Generate a layer of neural network. Note that the outputs \n",
    "    are before an activation function (sum(input * weight) + bias).\n",
    "    \"\"\"\n",
    "\n",
    "    def __init__(self, n_inputs: int, n_nodes: int) -> None:\n",
    "        self.weights = 0.01 * np.random.randn(n_inputs, n_nodes)\n",
    "        self.biases = np.zeros((1, n_nodes))\n",
    "\n",
    "    def forward(self, inputs: np.array) -> None:\n",
    "        # The inputs are either data or outputs from the \n",
    "        # previous hidden layer Activation(sum(input * weight) + bias).\n",
    "        self.inputs = inputs\n",
    "        self.forward_pass = np.dot(inputs, self.weights) + self.biases\n",
    "\n",
    "    def backprop(self, dvalues: np.array) -> None:\n",
    "        # dvalues are derivatives from the output of next hidden layer.\n",
    "        self.dweights = np.dot(self.inputs.T, dvalues)\n",
    "        self.dinputs = np.dot(dvalues, self.weights.T)\n",
    "        self.dbiases = np.sum(dvalues, axis=0, keepdims=True)"
   ]
  },
  {
   "cell_type": "code",
   "execution_count": 217,
   "metadata": {},
   "outputs": [],
   "source": [
    "class Activation_ReLU:\n",
    "    \"\"\"\n",
    "    Activation function for hidden layers. \n",
    "    Output = max(input, 0)\n",
    "    \"\"\"\n",
    "\n",
    "    def forward(self, inputs: np.array) -> None:\n",
    "        self.inputs = inputs\n",
    "        self.output = np.maximum(0, inputs)\n",
    "\n",
    "    def backprop(self, dvalues: np.array) -> None:\n",
    "        self.dinputs = dvalues.copy()\n",
    "        self.dinputs[self.inputs <= 0] = 0 # dReLU == 1 if ReLU > 0"
   ]
  },
  {
   "cell_type": "code",
   "execution_count": 211,
   "metadata": {},
   "outputs": [],
   "source": [
    "class Softmax_loss:\n",
    "    \"\"\"\n",
    "    should only call forward() and backprop().\n",
    "    \"\"\"\n",
    "    def __init__(self):\n",
    "        self.softmax_probabilities = None\n",
    "        self.pred_labels = None\n",
    "        self.accuracy = None\n",
    "        self.loss = None\n",
    "        self.dvalues = None\n",
    "        self.y_true = None\n",
    "\n",
    "    def y_true_check(self, y_true: np.array) -> None:\n",
    "        \"\"\"make sure y_true is 1D array of labels\"\"\"\n",
    "        if len(y_true.shape) == 2:\n",
    "            self.y_true = np.argmax(y_true, axis=1)\n",
    "        else:\n",
    "            self.y_true = y_true\n",
    "\n",
    "    def softmax(self, inputs: np.array) -> None:\n",
    "        # The inputs are from the previous dense layer\n",
    "        # convert inputs to negative values to 0, preventing overflow\n",
    "        # the output will not change due to normalization\n",
    "        # the ouputs is probabilities\n",
    "        inputs_exp = np.exp(inputs - np.max(inputs, axis=1, keepdims=True))\n",
    "        self.softmax_probabilities = inputs_exp / np.sum(inputs_exp, axis=1, keepdims=True)\n",
    "\n",
    "    def output_labels(self) -> None:\n",
    "        self.pred_labels = np.argmax(self.softmax_probabilities, axis=1)\n",
    "\n",
    "    def calculate_accuracy(self) -> None:\n",
    "        self.accuracy = np.mean(self.pred_labels == self.y_true)\n",
    "\n",
    "    def cross_entropy(self) -> None:\n",
    "        \"\"\"\n",
    "        Loss = -sum(y_true x log(y_predict))\n",
    "        This class simplifies the loss to -log(correct_class_condifence): Loss = -log(y_predict))\n",
    "\n",
    "        y_pred: probabilities from softmax activation function\n",
    "        y_true: 1D np.array\n",
    "        \"\"\"\n",
    "        predicts_clip = np.clip(self.softmax_probabilities, 1e-7, 1 - 1e-7) # prevent log(0)\n",
    "        self.confidences = predicts_clip[range(len(predicts_clip)), self.y_true]\n",
    "        self.loss = np.mean(-np.log(self.confidences))\n",
    "\n",
    "    def forward(self, inputs: np.array, y_true: np.array) -> None:\n",
    "        self.y_true_check(y_true)\n",
    "        self.softmax(inputs)\n",
    "        self.output_labels()\n",
    "        self.calculate_accuracy()\n",
    "        self.cross_entropy()\n",
    "\n",
    "    def backprop(self):\n",
    "        # y_pred is the probabilities from softmax activation function\n",
    "        self.dvalues = self.softmax_probabilities.copy()\n",
    "        self.dvalues[range(len(self.y_true)), self.y_true] -= 1\n",
    "        self.dvalues = self.dvalues / len(self.y_true)"
   ]
  },
  {
   "cell_type": "code",
   "execution_count": 242,
   "metadata": {},
   "outputs": [],
   "source": [
    "class Optimizer_SGD:\n",
    "    \"\"\"\n",
    "    Stochastic gradient descent optimizer\n",
    "    \"\"\"\n",
    "\n",
    "    def __init__(self, learning_rate: float = 1., decay: float = 0.):\n",
    "        self.init_learning_rate = learning_rate\n",
    "        self.decay = decay\n",
    "        self.iterations = 0\n",
    "\n",
    "    def update_param(self, layer):\n",
    "        if self.decay:\n",
    "            curr_learning_rate = self.init_learning_rate * ( 1. / ( 1. + self.decay * self.iterations))\n",
    "            self.iterations += 1\n",
    "        else:\n",
    "            curr_learning_rate = self.init_learning_rate\n",
    "\n",
    "        layer.weights -= curr_learning_rate * layer.dweights\n",
    "        layer.biases -= curr_learning_rate * layer.dbiases"
   ]
  },
  {
   "cell_type": "code",
   "execution_count": 169,
   "metadata": {},
   "outputs": [],
   "source": [
    "import nnfs\n",
    "from nnfs.datasets import spiral_data\n",
    "nnfs.init()"
   ]
  },
  {
   "cell_type": "code",
   "execution_count": 171,
   "metadata": {},
   "outputs": [],
   "source": [
    "X, y = spiral_data( samples = 100 , classes = 3 )"
   ]
  },
  {
   "cell_type": "code",
   "execution_count": 233,
   "metadata": {},
   "outputs": [
    {
     "name": "stdout",
     "output_type": "stream",
     "text": [
      "epoch: 0, acc: 0.333, loss: 1.099\n",
      "epoch: 1000, acc: 0.410, loss: 1.055\n",
      "epoch: 2000, acc: 0.420, loss: 1.035\n",
      "epoch: 3000, acc: 0.487, loss: 0.943\n",
      "epoch: 4000, acc: 0.570, loss: 0.882\n",
      "epoch: 5000, acc: 0.603, loss: 0.829\n",
      "epoch: 6000, acc: 0.650, loss: 0.701\n",
      "epoch: 7000, acc: 0.670, loss: 0.626\n",
      "epoch: 8000, acc: 0.727, loss: 0.581\n",
      "epoch: 9000, acc: 0.750, loss: 0.557\n"
     ]
    }
   ],
   "source": [
    "dense1 = Dense_layer(2 , 64)\n",
    "activation1 = Activation_ReLU()\n",
    "dense2 = Dense_layer(64 , 3)\n",
    "output = Softmax_loss()\n",
    "optimizer = Optimizer_SGD(1)\n",
    "\n",
    "for epoch in range (10000):\n",
    "    # Perform a forward pass\n",
    "    dense1.forward(X)\n",
    "    activation1.forward(dense1.forward_pass)\n",
    "    dense2.forward(activation1.output)\n",
    "    loss = output.forward(dense2.forward_pass, y)\n",
    "    # Perform a backpropgation\n",
    "    output.backprop()\n",
    "    dense2.backprop(output.dvalues)\n",
    "    activation1.backprop(dense2.dinputs)\n",
    "    dense1.backprop(activation1.dinputs)\n",
    "    # update param\n",
    "    optimizer.update_param(dense1)\n",
    "    optimizer.update_param(dense2)\n",
    "\n",
    "    if epoch % 1000 == 0:\n",
    "        print(f\"epoch: {epoch}, acc: {output.accuracy :.3f}, loss: {output.loss :.3f}\")\n",
    "\n",
    "    if output.accuracy >= 0.9:\n",
    "        print(f\"early terminate- epoch: {epoch}, acc: {output.accuracy :.3f}, loss: {output.loss :.3f}\")\n",
    "        break"
   ]
  },
  {
   "cell_type": "code",
   "execution_count": 244,
   "metadata": {},
   "outputs": [
    {
     "name": "stdout",
     "output_type": "stream",
     "text": [
      "epoch: 0, acc: 0.313, loss: 1.099\n",
      "epoch: 1000, acc: 0.410, loss: 1.067\n",
      "epoch: 2000, acc: 0.457, loss: 1.049\n",
      "epoch: 3000, acc: 0.467, loss: 1.029\n",
      "epoch: 4000, acc: 0.517, loss: 1.000\n",
      "epoch: 5000, acc: 0.570, loss: 0.973\n",
      "epoch: 6000, acc: 0.593, loss: 0.949\n",
      "epoch: 7000, acc: 0.597, loss: 0.928\n",
      "epoch: 8000, acc: 0.610, loss: 0.911\n",
      "epoch: 9000, acc: 0.640, loss: 0.897\n"
     ]
    }
   ],
   "source": [
    "dense1 = Dense_layer(2 , 64)\n",
    "activation1 = Activation_ReLU()\n",
    "dense2 = Dense_layer(64 , 3)\n",
    "output = Softmax_loss()\n",
    "optimizer = Optimizer_SGD(decay=1e-3)\n",
    "\n",
    "for epoch in range (10000):\n",
    "    # Perform a forward pass\n",
    "    dense1.forward(X)\n",
    "    activation1.forward(dense1.forward_pass)\n",
    "    dense2.forward(activation1.output)\n",
    "    loss = output.forward(dense2.forward_pass, y)\n",
    "    # Perform a backpropgation\n",
    "    output.backprop()\n",
    "    dense2.backprop(output.dvalues)\n",
    "    activation1.backprop(dense2.dinputs)\n",
    "    dense1.backprop(activation1.dinputs)\n",
    "    # update param\n",
    "    optimizer.update_param(dense1)\n",
    "    optimizer.update_param(dense2)\n",
    "\n",
    "    if epoch % 1000 == 0:\n",
    "        print(f\"epoch: {epoch}, acc: {output.accuracy :.3f}, loss: {output.loss :.3f}\")\n",
    "\n",
    "    if output.accuracy >= 0.9:\n",
    "        print(f\"early terminate- epoch: {epoch}, acc: {output.accuracy :.3f}, loss: {output.loss :.3f}\")\n",
    "        break"
   ]
  },
  {
   "cell_type": "code",
   "execution_count": null,
   "metadata": {},
   "outputs": [],
   "source": [
    "class Optimizer_adam:\n",
    "    \"\"\"\n",
    "    Adaptive momentum optimizer\n",
    "    \"\"\"\n",
    "\n",
    "    def __init__(self) -> None:\n",
    "        pass"
   ]
  }
 ],
 "metadata": {
  "kernelspec": {
   "display_name": "DL",
   "language": "python",
   "name": "python3"
  },
  "language_info": {
   "codemirror_mode": {
    "name": "ipython",
    "version": 3
   },
   "file_extension": ".py",
   "mimetype": "text/x-python",
   "name": "python",
   "nbconvert_exporter": "python",
   "pygments_lexer": "ipython3",
   "version": "3.11.9"
  }
 },
 "nbformat": 4,
 "nbformat_minor": 2
}
