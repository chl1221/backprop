{
 "cells": [
  {
   "cell_type": "markdown",
   "metadata": {},
   "source": [
    "This note is the record of learning Deep Learning.\n",
    "\n",
    "The forward and optimizers parts were from [Neural Networks from Scratch in Python](https://nnfs.io).\n",
    "\n",
    "The backpropagation was from [Prof. Hung-yi Lee @ NTU](https://www.youtube.com/watch?v=ibJpTrp5mcE&list=PLJV_el3uVTsPy9oCRY30oBPNLCo89yu49&index=12)."
   ]
  },
  {
   "cell_type": "code",
   "execution_count": 126,
   "metadata": {},
   "outputs": [],
   "source": [
    "import numpy as np"
   ]
  },
  {
   "cell_type": "markdown",
   "metadata": {},
   "source": [
    "# Implement of Neural Network"
   ]
  },
  {
   "cell_type": "code",
   "execution_count": 184,
   "metadata": {},
   "outputs": [],
   "source": [
    "class Dense_layer:\n",
    "    \"\"\"\n",
    "    Generate a layer of neural network. Note that the outputs \n",
    "    are before an activation function (sum(input * weight) + bias).\n",
    "    \"\"\"\n",
    "\n",
    "    def __init__(self, n_inputs: int, n_nodes: int) -> None:\n",
    "        self.weights = 0.01 * np.random.randn(n_inputs, n_nodes)\n",
    "        self.bias = np.zeros((1, n_nodes))\n",
    "\n",
    "    def forward(self, inputs: np.array) -> None:\n",
    "        # The inputs are either data or outputs from the \n",
    "        # previous hidden layer Activation(sum(input * weight) + bias).\n",
    "        self.inputs = inputs\n",
    "        self.forward_pass = np.dot(inputs, self.weights) + self.bias\n",
    "\n",
    "    def backprop(self, dvalues: np.array) -> None:\n",
    "        # dvalues are derivatives from the output of next hidden layer.\n",
    "        self.dweights = np.dot(self.inputs.T, dvalues)\n",
    "        self.dinputs = np.dot(dvalues, self.weights.T)\n",
    "        self.biases = np.sum(dvalues, axis=0, keepdims=True)"
   ]
  },
  {
   "cell_type": "code",
   "execution_count": 128,
   "metadata": {},
   "outputs": [],
   "source": [
    "class Activation_ReLU:\n",
    "    \"\"\"\n",
    "    Activation function for hidden layers. \n",
    "    Output = max(input, 0)\n",
    "    \"\"\"\n",
    "\n",
    "    def forward(self, inputs: np.array) -> None:\n",
    "        self.inputs = inputs\n",
    "        self.output = np.maximum(0, inputs)\n",
    "\n",
    "    def backprop(self, dvalues: np.array) -> None:\n",
    "        self.dinputs = dvalues.copy()\n",
    "        self.dinputs[self.inputs <= 0] = 0 # dReLU == 1 if ReLU > 0"
   ]
  },
  {
   "cell_type": "code",
   "execution_count": 211,
   "metadata": {},
   "outputs": [],
   "source": [
    "class Softmax_loss:\n",
    "    \"\"\"\n",
    "    should only call forward() and backprop().\n",
    "    \"\"\"\n",
    "    def __init__(self):\n",
    "        self.softmax_probabilities = None\n",
    "        self.pred_labels = None\n",
    "        self.accuracy = None\n",
    "        self.loss = None\n",
    "        self.dvalues = None\n",
    "        self.y_true = None\n",
    "\n",
    "    def y_true_check(self, y_true: np.array) -> None:\n",
    "        \"\"\"make sure y_true is 1D array of labels\"\"\"\n",
    "        if len(y_true.shape) == 2:\n",
    "            self.y_true = np.argmax(y_true, axis=1)\n",
    "        else:\n",
    "            self.y_true = y_true\n",
    "\n",
    "    def softmax(self, inputs: np.array) -> None:\n",
    "        # The inputs are from the previous dense layer\n",
    "        # convert inputs to negative values to 0, preventing overflow\n",
    "        # the output will not change due to normalization\n",
    "        # the ouputs is probabilities\n",
    "        inputs_exp = np.exp(inputs - np.max(inputs, axis=1, keepdims=True))\n",
    "        self.softmax_probabilities = inputs_exp / np.sum(inputs_exp, axis=1, keepdims=True)\n",
    "\n",
    "    def output_labels(self) -> None:\n",
    "        self.pred_labels = np.argmax(self.softmax_probabilities, axis=1)\n",
    "\n",
    "    def calculate_accuracy(self) -> None:\n",
    "        self.accuracy = np.mean(self.pred_labels == self.y_true)\n",
    "\n",
    "    def cross_entropy(self) -> None:\n",
    "        \"\"\"\n",
    "        Loss = -sum(y_true x log(y_predict))\n",
    "        This class simplifies the loss to -log(correct_class_condifence): Loss = -log(y_predict))\n",
    "\n",
    "        y_pred: probabilities from softmax activation function\n",
    "        y_true: 1D np.array\n",
    "        \"\"\"\n",
    "        predicts_clip = np.clip(self.softmax_probabilities, 1e-7, 1 - 1e-7) # prevent log(0)\n",
    "        self.confidences = predicts_clip[range(len(predicts_clip)), self.y_true]\n",
    "        self.loss = np.mean(-np.log(self.confidences))\n",
    "\n",
    "    def forward(self, inputs: np.array, y_true: np.array) -> None:\n",
    "        self.y_true_check(y_true)\n",
    "        self.softmax(inputs)\n",
    "        self.output_labels()\n",
    "        self.calculate_accuracy()\n",
    "        self.cross_entropy()\n",
    "\n",
    "    def backprop(self):\n",
    "        # y_pred is the probabilities from softmax activation function\n",
    "        self.dvalues = self.softmax_probabilities.copy()\n",
    "        self.dvalues[range(len(self.y_true)), self.y_true] -= 1\n",
    "        self.dvalues = self.dvalues / len(self.y_true)"
   ]
  },
  {
   "cell_type": "code",
   "execution_count": 188,
   "metadata": {},
   "outputs": [],
   "source": [
    "class Optimizer_SGD:\n",
    "    \"\"\"\n",
    "    Stochastic gradient descent optimizer\n",
    "    \"\"\"\n",
    "\n",
    "    def __init__(self, learning_rate):\n",
    "        self.learning_rate = learning_rate\n",
    "\n",
    "    def update_param(self, layer):\n",
    "        layer.weights -= self.learning_rate * layer.dweights\n",
    "        layer.biases -= self.learning_rate * layer.dbiases"
   ]
  },
  {
   "cell_type": "code",
   "execution_count": 169,
   "metadata": {},
   "outputs": [],
   "source": [
    "import nnfs\n",
    "from nnfs.datasets import spiral_data\n",
    "nnfs.init()"
   ]
  },
  {
   "cell_type": "code",
   "execution_count": 171,
   "metadata": {},
   "outputs": [],
   "source": [
    "X, y = spiral_data( samples = 100 , classes = 3 )"
   ]
  },
  {
   "cell_type": "code",
   "execution_count": 215,
   "metadata": {},
   "outputs": [
    {
     "ename": "TypeError",
     "evalue": "Activation_ReLU.backprop() takes 1 positional argument but 2 were given",
     "output_type": "error",
     "traceback": [
      "\u001b[0;31m---------------------------------------------------------------------------\u001b[0m",
      "\u001b[0;31mTypeError\u001b[0m                                 Traceback (most recent call last)",
      "Cell \u001b[0;32mIn[215], line 16\u001b[0m\n\u001b[1;32m     14\u001b[0m output\u001b[38;5;241m.\u001b[39mbackprop()\n\u001b[1;32m     15\u001b[0m dense2\u001b[38;5;241m.\u001b[39mbackprop(output\u001b[38;5;241m.\u001b[39mdvalues)\n\u001b[0;32m---> 16\u001b[0m \u001b[43mactivation1\u001b[49m\u001b[38;5;241;43m.\u001b[39;49m\u001b[43mbackprop\u001b[49m\u001b[43m(\u001b[49m\u001b[43mdense2\u001b[49m\u001b[38;5;241;43m.\u001b[39;49m\u001b[43mdinputs\u001b[49m\u001b[43m)\u001b[49m\n\u001b[1;32m     17\u001b[0m dense1\u001b[38;5;241m.\u001b[39mbackprop(activation1\u001b[38;5;241m.\u001b[39mdinputs)\n\u001b[1;32m     19\u001b[0m optimizer\u001b[38;5;241m.\u001b[39mupdate_param(dense1)\n",
      "\u001b[0;31mTypeError\u001b[0m: Activation_ReLU.backprop() takes 1 positional argument but 2 were given"
     ]
    }
   ],
   "source": [
    "dense1 = Dense_layer( 2 , 64 )\n",
    "activation1 = Activation_ReLU()\n",
    "dense2 = Dense_layer( 64 , 3 )\n",
    "output = Softmax_loss()\n",
    "optimizer = Optimizer_SGD(1)\n",
    "\n",
    "for epoch in range (1000):\n",
    "    # Perform a forward pass\n",
    "    dense1.forward(X)\n",
    "    activation1.forward(dense1.forward_pass)\n",
    "    dense2.forward(activation1.output)\n",
    "    loss = output.forward(dense2.forward_pass, y)\n",
    "    # Perform a backpropgation\n",
    "    output.backprop()\n",
    "    dense2.backprop(output.dvalues)\n",
    "    activation1.backprop(dense2.dinputs)\n",
    "    dense1.backprop(activation1.dinputs)\n",
    "\n",
    "    optimizer.update_param(dense1)\n",
    "    optimizer.update_param(dense2)\n",
    "\n",
    "    if epoch % 100 == 0:\n",
    "        print(f\"epoch: {epoch}, acc: {output.accuracy :.3f}, loss: {output.loss :.3f}\")"
   ]
  },
  {
   "cell_type": "code",
   "execution_count": null,
   "metadata": {},
   "outputs": [],
   "source": [
    "class Optimizer_adam:\n",
    "    \"\"\"\n",
    "    Adaptive momentum optimizer\n",
    "    \"\"\"\n",
    "\n",
    "    def __init__(self) -> None:\n",
    "        pass"
   ]
  },
  {
   "cell_type": "code",
   "execution_count": null,
   "metadata": {},
   "outputs": [],
   "source": [
    "softmax_outputs = np.array([[ 0.7 , 0.1 , 0.2 ],\n",
    "[ 0.1 , 0.5 , 0.4 ],\n",
    "[ 0.02 , 0.9 , 0.08 ]])\n",
    "class_targets = np.array([ 0 , 1 , 1 ])\n",
    "\n",
    "\n",
    "out_layer = Softmax_loss()\n",
    "out_layer.softmax_probabilities = softmax_outputs\n",
    "out_layer.y_true_check(class_targets)\n",
    "out_layer.output_labels()\n",
    "out_layer.calculate_accuracy()\n",
    "out_layer.cross_entropy()\n",
    "out_layer.backprop()\n",
    "\n",
    "print(out_layer.softmax_probabilities)\n",
    "print(out_layer.pred_labels)\n",
    "print(out_layer.accuracy)\n",
    "print(out_layer.loss)\n",
    "print(out_layer.dvalues)\n",
    "print(out_layer.y_true)"
   ]
  },
  {
   "cell_type": "code",
   "execution_count": 175,
   "metadata": {},
   "outputs": [],
   "source": [
    "class Dummy:\n",
    "    def __init__(self):\n",
    "        self.a = \"hello\"\n",
    "\n",
    "    def make_b(self, string):\n",
    "        self.b = string"
   ]
  },
  {
   "cell_type": "code",
   "execution_count": 176,
   "metadata": {},
   "outputs": [
    {
     "data": {
      "text/plain": [
       "'hello'"
      ]
     },
     "execution_count": 176,
     "metadata": {},
     "output_type": "execute_result"
    }
   ],
   "source": [
    "dummy = Dummy()\n",
    "dummy.a"
   ]
  },
  {
   "cell_type": "code",
   "execution_count": 179,
   "metadata": {},
   "outputs": [],
   "source": [
    "dummy.make_b(\"yeap\")"
   ]
  },
  {
   "cell_type": "code",
   "execution_count": 180,
   "metadata": {},
   "outputs": [
    {
     "data": {
      "text/plain": [
       "'yeap'"
      ]
     },
     "execution_count": 180,
     "metadata": {},
     "output_type": "execute_result"
    }
   ],
   "source": [
    "dummy.b"
   ]
  },
  {
   "cell_type": "code",
   "execution_count": 201,
   "metadata": {},
   "outputs": [
    {
     "data": {
      "text/plain": [
       "array([[0, 1, 2],\n",
       "       [3, 4, 5],\n",
       "       [6, 7, 8]])"
      ]
     },
     "execution_count": 201,
     "metadata": {},
     "output_type": "execute_result"
    }
   ],
   "source": [
    "a = np.arange(9).reshape(3,3)\n",
    "a"
   ]
  },
  {
   "cell_type": "code",
   "execution_count": 203,
   "metadata": {},
   "outputs": [
    {
     "data": {
      "text/plain": [
       "array([[2],\n",
       "       [5],\n",
       "       [8]])"
      ]
     },
     "execution_count": 203,
     "metadata": {},
     "output_type": "execute_result"
    }
   ],
   "source": [
    "np.max(a, axis=1, keepdims=True)"
   ]
  }
 ],
 "metadata": {
  "kernelspec": {
   "display_name": "DL",
   "language": "python",
   "name": "python3"
  },
  "language_info": {
   "codemirror_mode": {
    "name": "ipython",
    "version": 3
   },
   "file_extension": ".py",
   "mimetype": "text/x-python",
   "name": "python",
   "nbconvert_exporter": "python",
   "pygments_lexer": "ipython3",
   "version": "3.11.9"
  }
 },
 "nbformat": 4,
 "nbformat_minor": 2
}
